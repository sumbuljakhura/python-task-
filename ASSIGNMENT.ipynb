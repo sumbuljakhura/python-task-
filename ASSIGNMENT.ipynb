{
 "cells": [
  {
   "cell_type": "code",
   "execution_count": 1,
   "id": "ab948881",
   "metadata": {},
   "outputs": [
    {
     "name": "stdout",
     "output_type": "stream",
     "text": [
      "Twinkle, twinkle, little star,\n",
      "\tHow I wonder what you are! \n",
      "\t\tUp above the world so high, \n",
      "\t\tLike a diamond in the sky. \n",
      "Twinkle, twinkle, little star, \n",
      "\tHow I wonder what you are!\n"
     ]
    }
   ],
   "source": [
    "print(\"Twinkle, twinkle, little star,\"\n",
    "      \"\\n\\tHow I wonder what you are! \\n\\t\\tUp above the world so high, \"\n",
    "      \"\\n\\t\\tLike a diamond in the sky. \\nTwinkle, twinkle, little star, \\n\\tHow I wonder what you are!\")\n"
   ]
  },
  {
   "cell_type": "code",
   "execution_count": 2,
   "id": "97ca8501",
   "metadata": {},
   "outputs": [
    {
     "name": "stdout",
     "output_type": "stream",
     "text": [
      "Python version\n",
      "3.8.8 (default, Apr 13 2021, 15:08:03) [MSC v.1916 64 bit (AMD64)]\n",
      "Version info.\n",
      "sys.version_info(major=3, minor=8, micro=8, releaselevel='final', serial=0)\n"
     ]
    }
   ],
   "source": [
    "import sys\n",
    "print(\"Python version\")\n",
    "print (sys.version)\n",
    "print(\"Version info.\")\n",
    "print (sys.version_info)"
   ]
  },
  {
   "cell_type": "code",
   "execution_count": 3,
   "id": "24577d15",
   "metadata": {},
   "outputs": [
    {
     "name": "stdout",
     "output_type": "stream",
     "text": [
      "date and time now:  2021-10-22 21:21:15.615991\n",
      "date and time now:  22/10/2021 21:21:15\n"
     ]
    }
   ],
   "source": [
    "from datetime import datetime\n",
    "now = datetime.now()\n",
    "print(\"date and time now: \", now)\n",
    "\n",
    "\n",
    "time = now.strftime(\"%d/%m/%Y %H:%M:%S\")\n",
    "print(\"date and time now: \", time)\n"
   ]
  },
  {
   "cell_type": "code",
   "execution_count": 4,
   "id": "6d19e0e1",
   "metadata": {},
   "outputs": [
    {
     "name": "stdout",
     "output_type": "stream",
     "text": [
      "Enter radius of circle : 90\n",
      "Area of the circle is: 25446.900494077323\n"
     ]
    }
   ],
   "source": [
    "from math import pi\n",
    "\n",
    "r = float(input (\"Enter radius of circle : \"))\n",
    "\n",
    "print (\"Area of the circle is: \" + str(pi * r**2))"
   ]
  },
  {
   "cell_type": "code",
   "execution_count": 5,
   "id": "6e37b9cb",
   "metadata": {},
   "outputs": [
    {
     "name": "stdout",
     "output_type": "stream",
     "text": [
      "Enter your First Name : Sumbul\n",
      "Enter your Last Name : Jakhura\n",
      "Hello  Jakhura Sumbul\n"
     ]
    }
   ],
   "source": [
    "fname = input(\"Enter your First Name : \");\n",
    "lname = input(\"Enter your Last Name : \");\n",
    "print (\"Hello  \" + lname + \" \" + fname);"
   ]
  },
  {
   "cell_type": "code",
   "execution_count": 6,
   "id": "3fe308f8",
   "metadata": {},
   "outputs": [
    {
     "name": "stdout",
     "output_type": "stream",
     "text": [
      "Enter first number 67\n",
      "Enter Second number 90\n",
      "157\n"
     ]
    }
   ],
   "source": [
    "add1=int(input(\"Enter first number \"));\n",
    "add2=int(input(\"Enter Second number \"));\n",
    "print(add1+add2);"
   ]
  },
  {
   "cell_type": "code",
   "execution_count": 7,
   "id": "1d7c0015",
   "metadata": {},
   "outputs": [
    {
     "name": "stdout",
     "output_type": "stream",
     "text": [
      "Enter number 89\n",
      "Enter number 90\n",
      "Enter number 89\n",
      "Enter number 70\n",
      "Enter number 90\n",
      "Total number of all Subject is 428 out of 500.\n",
      "and its percent is 85%.\n",
      "Grade A+\n"
     ]
    }
   ],
   "source": [
    "english=int(input(\"Enter number \"));\n",
    "islamit=int(input(\"Enter number \"));\n",
    "math=int(input(\"Enter number \"));\n",
    "urdu=int(input(\"Enter number \"));\n",
    "pst=int(input(\"Enter number \"));\n",
    "\n",
    "Total=english+islamit+math+urdu+pst;\n",
    "percent=int(Total/500*100);\n",
    "print(\"Total number of all Subject is \"+(str(Total))+\" out of 500.\\nand its percent is \"+(str(percent))+\"%.\");\n",
    "\n",
    "if percent <=100 and percent >= 80:\n",
    "  print(\"Grade A+\");\n",
    "elif percent <= 80 and percent >= 70:\n",
    "  print(\" Grade A\");\n",
    "elif percent <= 70 and percent >= 60:  \n",
    "  print(\"Grade B\");\n",
    "elif percent <= 60 and percent >= 50: \n",
    "  print(\"Grade C\");   \n",
    "elif percent <= 50 and percent >= 40:\n",
    "  print(\"Grade D\");\n",
    "else:\n",
    "  print(\"pleasure enter correct value\")  "
   ]
  },
  {
   "cell_type": "code",
   "execution_count": 9,
   "id": "330efe97",
   "metadata": {},
   "outputs": [
    {
     "name": "stdout",
     "output_type": "stream",
     "text": [
      "Enter a number: 2\n",
      "This is an even number.\n"
     ]
    }
   ],
   "source": [
    "num = int(input(\"Enter a number: \"))\n",
    "numbers = num % 2\n",
    "if numbers > 0:\n",
    "    print(\"This is an odd number.\")\n",
    "else:\n",
    "    print(\"This is an even number.\")"
   ]
  },
  {
   "cell_type": "code",
   "execution_count": 10,
   "id": "0741ff7e",
   "metadata": {},
   "outputs": [
    {
     "name": "stdout",
     "output_type": "stream",
     "text": [
      "Number of items in the list =  7\n"
     ]
    }
   ],
   "source": [
    "Name = [\"Hello\", \"sumbul\", 1, 2, 3,4,5]\n",
    "print (\"Number of items in the list = \", len(Name))"
   ]
  },
  {
   "cell_type": "code",
   "execution_count": 14,
   "id": "9bd05184",
   "metadata": {},
   "outputs": [
    {
     "name": "stdout",
     "output_type": "stream",
     "text": [
      "21\n"
     ]
    }
   ],
   "source": [
    "def list(items):\n",
    "    numbers = 0\n",
    "    for x in items:\n",
    "        numbers += x\n",
    "    return numbers\n",
    "print(list([1,3,8,9]))\n"
   ]
  },
  {
   "cell_type": "code",
   "execution_count": 16,
   "id": "b7101fca",
   "metadata": {},
   "outputs": [
    {
     "name": "stdout",
     "output_type": "stream",
     "text": [
      "102\n"
     ]
    }
   ],
   "source": [
    "def max_num( list ):\n",
    "    max = list[ 0 ]\n",
    "    for a in list:\n",
    "        if a > max:\n",
    "            max = a\n",
    "    return max\n",
    "print(max_num([1, 102, 78, 90]))\n"
   ]
  },
  {
   "cell_type": "code",
   "execution_count": 19,
   "id": "ec35ede3",
   "metadata": {},
   "outputs": [
    {
     "name": "stdout",
     "output_type": "stream",
     "text": [
      "1\n",
      "1\n",
      "2\n",
      "3\n",
      "4\n",
      "2\n",
      "3\n"
     ]
    }
   ],
   "source": [
    "b = [1, 1, 2, 3,4,56,2,3,78,5,6]\n",
    "\n",
    "for i in b:\n",
    "\n",
    "    if i < 5:\n",
    "\n",
    "        print(i)"
   ]
  },
  {
   "cell_type": "code",
   "execution_count": null,
   "id": "82d37012",
   "metadata": {},
   "outputs": [],
   "source": []
  }
 ],
 "metadata": {
  "kernelspec": {
   "display_name": "Python 3",
   "language": "python",
   "name": "python3"
  },
  "language_info": {
   "codemirror_mode": {
    "name": "ipython",
    "version": 3
   },
   "file_extension": ".py",
   "mimetype": "text/x-python",
   "name": "python",
   "nbconvert_exporter": "python",
   "pygments_lexer": "ipython3",
   "version": "3.8.8"
  }
 },
 "nbformat": 4,
 "nbformat_minor": 5
}
